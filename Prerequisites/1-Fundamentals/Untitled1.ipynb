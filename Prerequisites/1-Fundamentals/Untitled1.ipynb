{
 "cells": [
  {
   "cell_type": "code",
   "execution_count": 5,
   "id": "31efe24b",
   "metadata": {},
   "outputs": [
    {
     "name": "stdout",
     "output_type": "stream",
     "text": [
      "Original list is : ['1', '4', 3, '6', '7']\n",
      "['1', '4', 3, '6', '7']\n",
      "5\n",
      "Modified list is : [1, 4, 3, 6, 7]\n"
     ]
    }
   ],
   "source": [
    "# Python3 code to demonstrate\n",
    "# converting list of strings to int\n",
    "# using naive method\n",
    "\n",
    "# initializing list\n",
    "test_list = ['1', '4', 3, '6', '7']\n",
    "\n",
    "# Printing original list\n",
    "print (\"Original list is : \" + str(test_list))\n",
    "print (test_list)\n",
    "print (len(test_list))\n",
    "\n",
    "# using naive method to\n",
    "# perform conversion\n",
    "for i in range(0, len(test_list)):\n",
    "\ttest_list[i] = int(test_list[i])\n",
    "\t\n",
    "\n",
    "# Printing modified list\n",
    "print (\"Modified list is : \" + str(test_list))\n"
   ]
  },
  {
   "cell_type": "code",
   "execution_count": 20,
   "id": "030da39b",
   "metadata": {},
   "outputs": [
    {
     "ename": "SyntaxError",
     "evalue": "invalid syntax (Temp/ipykernel_13460/564058607.py, line 13)",
     "output_type": "error",
     "traceback": [
      "\u001b[1;36m  File \u001b[1;32m\"C:\\Users\\tremo\\AppData\\Local\\Temp/ipykernel_13460/564058607.py\"\u001b[1;36m, line \u001b[1;32m13\u001b[0m\n\u001b[1;33m    a =\u001b[0m\n\u001b[1;37m        ^\u001b[0m\n\u001b[1;31mSyntaxError\u001b[0m\u001b[1;31m:\u001b[0m invalid syntax\n"
     ]
    }
   ],
   "source": [
    "# Python3 code to demonstrate\n",
    "# converting list of strings to int\n",
    "# using list comprehension\n",
    "\n",
    "# initializing list\n",
    "test_list = ['1', '4', '3', '6', '7']\n",
    "\n",
    "# Printing original list\n",
    "print (\"Original list is : \" + str(test_list))\n",
    "\n",
    "# using list comprehension to\n",
    "# perform conversion\n",
    "test_list = [int(i) for i in test_list]\n",
    "\t\n",
    "\n",
    "# Printing modified list\n",
    "print (\"Modified list is : \" + str(test_list))\n"
   ]
  },
  {
   "cell_type": "code",
   "execution_count": 21,
   "id": "200a8c45",
   "metadata": {},
   "outputs": [
    {
     "name": "stdout",
     "output_type": "stream",
     "text": [
      "Original list is : ['1', '4', '3', '6', '7']\n",
      "Modified list is : [1, 4, 3, 6, 7]\n"
     ]
    }
   ],
   "source": [
    "# Python3 code to demonstrate\n",
    "# converting list of strings to int\n",
    "# using map()\n",
    "\n",
    "# initializing list\n",
    "test_list = ['1', '4', '3', '6', '7']\n",
    "\n",
    "# Printing original list\n",
    "print (\"Original list is : \" + str(test_list))\n",
    "\n",
    "# using map() to\n",
    "# perform conversion\n",
    "test_list = list(map(int, test_list))\n",
    "\t\n",
    "\n",
    "# Printing modified list\n",
    "print (\"Modified list is : \" + str(test_list))\n"
   ]
  },
  {
   "cell_type": "code",
   "execution_count": 35,
   "id": "cc022b26",
   "metadata": {},
   "outputs": [
    {
     "name": "stdout",
     "output_type": "stream",
     "text": [
      "121517\n"
     ]
    }
   ],
   "source": [
    "# Python3 program to convert a list\n",
    "# of integers into a single integer\n",
    "\n",
    "# creating a list\n",
    "lst = [12, 15, 17]\n",
    "\n",
    "# iterating each element\n",
    "# for i in lst:\n",
    "# \tprint(i, end=\"\")\n",
    "\n",
    "res=\"\".join([str(i) for i in lst])\n",
    "print(res)\n"
   ]
  },
  {
   "cell_type": "code",
   "execution_count": 37,
   "id": "99d4a1fd",
   "metadata": {},
   "outputs": [
    {
     "name": "stdout",
     "output_type": "stream",
     "text": [
      "712123\n"
     ]
    }
   ],
   "source": [
    "# Python3 program to convert a list\n",
    "# of integers into a single integer\n",
    "def convert(list):\n",
    "\t\n",
    "\t# Converting integer list to string list\n",
    "\ts = [str(i) for i in list]\n",
    "\t\n",
    "\t# Join list items using join()\n",
    "\tres = int(\"\".join(s))\n",
    "\t\n",
    "\treturn(res)\n",
    "\n",
    "# Driver code\n",
    "list = [71, 2, 12, 3]\n",
    "print(convert(list))\n"
   ]
  }
 ],
 "metadata": {
  "kernelspec": {
   "display_name": "Python 3 (ipykernel)",
   "language": "python",
   "name": "python3"
  },
  "language_info": {
   "codemirror_mode": {
    "name": "ipython",
    "version": 3
   },
   "file_extension": ".py",
   "mimetype": "text/x-python",
   "name": "python",
   "nbconvert_exporter": "python",
   "pygments_lexer": "ipython3",
   "version": "3.9.7"
  }
 },
 "nbformat": 4,
 "nbformat_minor": 5
}
