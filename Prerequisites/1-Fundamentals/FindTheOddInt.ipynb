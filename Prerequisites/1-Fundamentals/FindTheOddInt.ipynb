{
 "cells": [
  {
   "cell_type": "code",
   "execution_count": 1,
   "id": "41102e30",
   "metadata": {},
   "outputs": [
    {
     "name": "stdout",
     "output_type": "stream",
     "text": [
      "<class 'dict'>\n",
      "1 2\n",
      "2 4\n",
      "3 6\n",
      "4 1\n",
      "4\n"
     ]
    },
    {
     "data": {
      "text/plain": [
       "' \\nGiven an array of integers, find the one that appears an odd number of times.\\n\\nThere will always be only one integer that appears an odd number of times.\\n\\nExamples\\n[7] should return 7, because it occurs 1 time (which is odd).\\n[0] should return 0, because it occurs 1 time (which is odd).\\n[1,1,2] should return 2, because it occurs 1 time (which is odd).\\n[0,1,0,1,0] should return 0, because it occurs 3 times (which is odd).\\n[1,2,2,3,3,3,4,3,3,3,2,2,1] should return 4, because it appears 1 time (which is odd). '"
      ]
     },
     "execution_count": 1,
     "metadata": {},
     "output_type": "execute_result"
    }
   ],
   "source": [
    "def find_it(seq):\n",
    "    appears={}\n",
    "    for s in set(seq):\n",
    "        appears[s]=0\n",
    "\n",
    "    for s in seq:\n",
    "        appears[s]+=1\n",
    "\n",
    "    for k, v in appears.items():\n",
    "        if v%2 == 1:\n",
    "            res = k\n",
    "    return(res)\n",
    "\n",
    "\n",
    "arr=[1,2,2,3,3,3,4,3,3,3,2,2,1]\n",
    "find_it(arr)\n",
    "\n",
    "# def find_it(seq):\n",
    "#     for i in seq:\n",
    "#         if seq.count(i)%2!=0:\n",
    "#             return i\n",
    "\n",
    "# def find_it(seq):\n",
    "#     return [x for x in seq if seq.count(x) % 2][0]\n",
    "\n",
    "# https://www.codewars.com/kata/54da5a58ea159efa38000836/solutions/python\n",
    "\"\"\" \n",
    "Given an array of integers, find the one that appears an odd number of times.\n",
    "\n",
    "There will always be only one integer that appears an odd number of times.\n",
    "\n",
    "Examples\n",
    "[7] should return 7, because it occurs 1 time (which is odd).\n",
    "[0] should return 0, because it occurs 1 time (which is odd).\n",
    "[1,1,2] should return 2, because it occurs 1 time (which is odd).\n",
    "[0,1,0,1,0] should return 0, because it occurs 3 times (which is odd).\n",
    "[1,2,2,3,3,3,4,3,3,3,2,2,1] should return 4, because it appears 1 time (which is odd). \"\"\""
   ]
  },
  {
   "cell_type": "code",
   "execution_count": null,
   "id": "f82f4b1c",
   "metadata": {},
   "outputs": [],
   "source": []
  },
  {
   "cell_type": "code",
   "execution_count": null,
   "id": "f1f70098",
   "metadata": {},
   "outputs": [],
   "source": []
  }
 ],
 "metadata": {
  "kernelspec": {
   "display_name": "Python 3 (ipykernel)",
   "language": "python",
   "name": "python3"
  },
  "language_info": {
   "codemirror_mode": {
    "name": "ipython",
    "version": 3
   },
   "file_extension": ".py",
   "mimetype": "text/x-python",
   "name": "python",
   "nbconvert_exporter": "python",
   "pygments_lexer": "ipython3",
   "version": "3.9.1"
  }
 },
 "nbformat": 4,
 "nbformat_minor": 5
}
