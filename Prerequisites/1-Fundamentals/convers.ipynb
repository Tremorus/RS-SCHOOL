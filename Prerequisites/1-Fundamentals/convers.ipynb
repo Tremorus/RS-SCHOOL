{
 "cells": [
  {
   "cell_type": "code",
   "execution_count": 2,
   "id": "41102e30",
   "metadata": {},
   "outputs": [
    {
     "name": "stdout",
     "output_type": "stream",
     "text": [
      "The original number is 2019\n",
      "The list from number is ['2', '0', '1', '9']\n"
     ]
    }
   ],
   "source": [
    "# Python3 code to demonstrate \n",
    "# conversion of number to list of integers\n",
    "# using map()\n",
    "  \n",
    "# initializing number \n",
    "num = 2019\n",
    "  \n",
    "# printing number \n",
    "print (\"The original number is \" + str(num))\n",
    "  \n",
    "# using map()\n",
    "# to convert number to list of integers\n",
    "res = list(map(str, str(num)))\n",
    "  \n",
    "# printing result \n",
    "print (\"The list from number is \" + str(res))"
   ]
  },
  {
   "cell_type": "code",
   "execution_count": null,
   "id": "f1f70098",
   "metadata": {},
   "outputs": [],
   "source": []
  }
 ],
 "metadata": {
  "kernelspec": {
   "display_name": "Python 3 (ipykernel)",
   "language": "python",
   "name": "python3"
  },
  "language_info": {
   "codemirror_mode": {
    "name": "ipython",
    "version": 3
   },
   "file_extension": ".py",
   "mimetype": "text/x-python",
   "name": "python",
   "nbconvert_exporter": "python",
   "pygments_lexer": "ipython3",
   "version": "3.9.7"
  }
 },
 "nbformat": 4,
 "nbformat_minor": 5
}
