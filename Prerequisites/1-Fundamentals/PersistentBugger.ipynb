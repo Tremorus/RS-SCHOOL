{
 "cells": [
  {
   "cell_type": "code",
   "execution_count": 64,
   "metadata": {},
   "outputs": [
    {
     "name": "stdout",
     "output_type": "stream",
     "text": [
      "3\n"
     ]
    }
   ],
   "source": [
    "def persistence(n):\n",
    "    global counter\n",
    "    if n < 10:\n",
    "        return(0)\n",
    "\n",
    "    numlist = list(str(n))\n",
    "    r = 1\n",
    "\n",
    "    for x in numlist:\n",
    "        r *= int(x)\n",
    "\n",
    "    counter += 1\n",
    "\n",
    "    if r > 9:\n",
    "        persistence(r)\n",
    "\n",
    "    return(counter)\n",
    "\n",
    "\n",
    "n = 39\n",
    "counter = 0\n",
    "res = persistence(n)\n",
    "print(res)\n",
    "# print(counter)\n"
   ]
  }
 ],
 "metadata": {
  "interpreter": {
   "hash": "ac8495eddf0c69449ced56b3fd6ebea73c541f85544ef8d47ab963623c0ed9fb"
  },
  "kernelspec": {
   "display_name": "Python 3.9.7 ('base')",
   "language": "python",
   "name": "python3"
  },
  "language_info": {
   "codemirror_mode": {
    "name": "ipython",
    "version": 3
   },
   "file_extension": ".py",
   "mimetype": "text/x-python",
   "name": "python",
   "nbconvert_exporter": "python",
   "pygments_lexer": "ipython3",
   "version": "3.9.7"
  }
 },
 "nbformat": 4,
 "nbformat_minor": 5
}
