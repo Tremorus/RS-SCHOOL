{
 "cells": [
  {
   "cell_type": "code",
   "execution_count": 1,
   "metadata": {},
   "outputs": [
    {
     "name": "stdout",
     "output_type": "stream",
     "text": [
      "no one likes this\n",
      "Peter likes this\n",
      "Jacob and Alex like this\n",
      "Max, John and Mark like this\n",
      "Alex, Jacob and 2 others like this\n",
      "Alex, Jacob and 5 others like this\n"
     ]
    },
    {
     "data": {
      "text/plain": [
       "'Alex, Jacob and 5 others like this'"
      ]
     },
     "execution_count": 1,
     "metadata": {},
     "output_type": "execute_result"
    }
   ],
   "source": [
    "def likes(names):\n",
    "    guys_count = len(names)\n",
    "    who_likes = 'no one'\n",
    "    like_this = \"like this\"\n",
    "    if guys_count <= 1:\n",
    "        like_this = \"likes this\"\n",
    "    if 1 <= guys_count <= 2:\n",
    "        who_likes = ' and '.join(names)\n",
    "    elif guys_count == 3:\n",
    "        who_likes = names[0] + ', ' + ' and '.join(names[1:3])\n",
    "    elif guys_count > 3:\n",
    "        who_likes =  ', '.join(names[0:2]) + ' and ' + str(len(names[2:])) + \" others\"\n",
    "    answer = \" \".join([who_likes, like_this])\n",
    "    print(answer)\n",
    "    return(answer)\n",
    "\n",
    "likes([])\n",
    "likes(['Peter'])\n",
    "likes([\"Jacob\", \"Alex\"])\n",
    "likes([\"Max\", \"John\", \"Mark\"])\n",
    "likes([\"Alex\", \"Jacob\", \"Mark\", \"Max\"])\n",
    "likes([\"Alex\", \"Jacob\", \"Mark\", \"Alex\", \"Jacob\", \"Mark\", \"Max\"])"
   ]
  },
  {
   "cell_type": "code",
   "execution_count": 2,
   "metadata": {},
   "outputs": [
    {
     "ename": "ModuleNotFoundError",
     "evalue": "No module named 'codewars_test'",
     "output_type": "error",
     "traceback": [
      "\u001b[1;31m---------------------------------------------------------------------------\u001b[0m",
      "\u001b[1;31mModuleNotFoundError\u001b[0m                       Traceback (most recent call last)",
      "\u001b[1;32m~\\AppData\\Local\\Temp/ipykernel_12296/1559228371.py\u001b[0m in \u001b[0;36m<module>\u001b[1;34m\u001b[0m\n\u001b[1;32m----> 1\u001b[1;33m \u001b[1;32mimport\u001b[0m \u001b[0mcodewars_test\u001b[0m \u001b[1;32mas\u001b[0m \u001b[0mtest\u001b[0m\u001b[1;33m\u001b[0m\u001b[1;33m\u001b[0m\u001b[0m\n\u001b[0m\u001b[0;32m      2\u001b[0m \u001b[1;32mfrom\u001b[0m \u001b[0msolution\u001b[0m \u001b[1;32mimport\u001b[0m \u001b[0mlikes\u001b[0m\u001b[1;33m\u001b[0m\u001b[1;33m\u001b[0m\u001b[0m\n\u001b[0;32m      3\u001b[0m \u001b[1;33m\u001b[0m\u001b[0m\n\u001b[0;32m      4\u001b[0m \u001b[1;33m@\u001b[0m\u001b[0mtest\u001b[0m\u001b[1;33m.\u001b[0m\u001b[0mit\u001b[0m\u001b[1;33m(\u001b[0m\u001b[1;34m'Basic tests'\u001b[0m\u001b[1;33m)\u001b[0m\u001b[1;33m\u001b[0m\u001b[1;33m\u001b[0m\u001b[0m\n\u001b[0;32m      5\u001b[0m \u001b[1;32mdef\u001b[0m \u001b[0m_\u001b[0m\u001b[1;33m(\u001b[0m\u001b[1;33m)\u001b[0m\u001b[1;33m:\u001b[0m\u001b[1;33m\u001b[0m\u001b[1;33m\u001b[0m\u001b[0m\n",
      "\u001b[1;31mModuleNotFoundError\u001b[0m: No module named 'codewars_test'"
     ]
    }
   ],
   "source": [
    "import codewars_test as test\n",
    "from solution import likes\n",
    "\n",
    "@test.it('Basic tests')\n",
    "def _():\n",
    "    test.assert_equals(likes([]), 'no one likes this')\n",
    "    test.assert_equals(likes(['Peter']), 'Peter likes this')\n",
    "    test.assert_equals(likes(['Jacob', 'Alex']), 'Jacob and Alex like this')\n",
    "    test.assert_equals(likes(['Max', 'John', 'Mark']), 'Max, John and Mark like this')\n",
    "    test.assert_equals(likes(['Alex', 'Jacob', 'Mark', 'Max']), 'Alex, Jacob and 2 others like this')"
   ]
  }
 ],
 "metadata": {
  "interpreter": {
   "hash": "ac8495eddf0c69449ced56b3fd6ebea73c541f85544ef8d47ab963623c0ed9fb"
  },
  "kernelspec": {
   "display_name": "Python 3 (ipykernel)",
   "language": "python",
   "name": "python3"
  },
  "language_info": {
   "codemirror_mode": {
    "name": "ipython",
    "version": 3
   },
   "file_extension": ".py",
   "mimetype": "text/x-python",
   "name": "python",
   "nbconvert_exporter": "python",
   "pygments_lexer": "ipython3",
   "version": "3.9.7"
  }
 },
 "nbformat": 4,
 "nbformat_minor": 2
}
