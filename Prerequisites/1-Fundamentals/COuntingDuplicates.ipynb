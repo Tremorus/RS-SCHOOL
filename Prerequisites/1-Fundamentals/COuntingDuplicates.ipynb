{
 "cells": [
  {
   "cell_type": "code",
   "execution_count": 2,
   "id": "8820034e",
   "metadata": {},
   "outputs": [
    {
     "name": "stdout",
     "output_type": "stream",
     "text": [
      "24\n"
     ]
    }
   ],
   "source": [
    "# \"\"\" Count the number of Duplicates\n",
    "# Write a function that will return the count of distinct case-insensitive alphabetic characters and numeric digits that occur more than once in the input string. The input string can be assumed to contain only alphabets (both uppercase and lowercase) and numeric digits.\n",
    "\n",
    "# Example\n",
    "# \"abcde\" -> 0 # no characters repeats more than once\n",
    "# \"aabbcde\" -> 2 # 'a' and 'b'\n",
    "# \"aabBcde\" -> 2 # 'a' occurs twice and 'b' twice (`b` and `B`)\n",
    "# \"indivisibility\" -> 1 # 'i' occurs six times\n",
    "# \"Indivisibilities\" -> 2 # 'i' occurs seven times and 's' occurs twice\n",
    "# \"aA11\" -> 2 # 'a' and '1'\n",
    "# \"ABBA\" -> 2 # 'A' and 'B' each occur twice \"\"\"\n",
    "\n",
    "def duplicate_count(text):\n",
    "    text_lower = text.lower()\n",
    "    dbl_cnt = 0\n",
    "    for s in set(text_lower):\n",
    "        if text_lower.count(s) > 1: dbl_cnt += 1\n",
    "    return dbl_cnt\n",
    "\n",
    "\n",
    "text=\"q6sM3unxF9ZHSV4QGlNZnuReZDAWSsWLdacnCHFN7e4RohVplxXflkIQDpoZyLVRtVYJpi9juRrhCpKf\"\n",
    "\n",
    "print(duplicate_count(text))\n",
    "\n",
    "# def duplicate_count(s):\n",
    "#   return len([c for c in set(s.lower()) if s.lower().count(c)>1])\n",
    "\n",
    "\n"
   ]
  }
 ],
 "metadata": {
  "interpreter": {
   "hash": "ac8495eddf0c69449ced56b3fd6ebea73c541f85544ef8d47ab963623c0ed9fb"
  },
  "kernelspec": {
   "display_name": "Python 3.9.7 ('base')",
   "language": "python",
   "name": "python3"
  },
  "language_info": {
   "codemirror_mode": {
    "name": "ipython",
    "version": 3
   },
   "file_extension": ".py",
   "mimetype": "text/x-python",
   "name": "python",
   "nbconvert_exporter": "python",
   "pygments_lexer": "ipython3",
   "version": "3.9.7"
  }
 },
 "nbformat": 4,
 "nbformat_minor": 5
}
