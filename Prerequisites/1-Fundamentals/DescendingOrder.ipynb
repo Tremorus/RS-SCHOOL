{
 "cells": [
  {
   "cell_type": "code",
   "execution_count": 63,
   "id": "41102e30",
   "metadata": {},
   "outputs": [
    {
     "name": "stdout",
     "output_type": "stream",
     "text": [
      "10651\n",
      "65110\n"
     ]
    }
   ],
   "source": [
    "def descending_order(num):\n",
    "    a = [s for s in str(num)]\n",
    "    a.sort(reverse=True)\n",
    "    return(int(\"\".join(a)))\n",
    "\n",
    "\n",
    "n='10651'\n",
    "print(n)\n",
    "res = descending_order(n)\n",
    "print(res)\n"
   ]
  },
  {
   "cell_type": "code",
   "execution_count": null,
   "id": "f1f70098",
   "metadata": {},
   "outputs": [],
   "source": []
  }
 ],
 "metadata": {
  "kernelspec": {
   "display_name": "Python 3 (ipykernel)",
   "language": "python",
   "name": "python3"
  },
  "language_info": {
   "codemirror_mode": {
    "name": "ipython",
    "version": 3
   },
   "file_extension": ".py",
   "mimetype": "text/x-python",
   "name": "python",
   "nbconvert_exporter": "python",
   "pygments_lexer": "ipython3",
   "version": "3.9.7"
  }
 },
 "nbformat": 4,
 "nbformat_minor": 5
}
