{
 "cells": [
  {
   "cell_type": "code",
   "execution_count": 177,
   "metadata": {},
   "outputs": [
    {
     "name": "stdout",
     "output_type": "stream",
     "text": [
      "[1]\n",
      "[1, 2]\n",
      "change direction\n",
      "[1, 2, 3]\n",
      "[1, 2, 3, 6]\n",
      "[1, 2, 3, 6, 6]\n",
      "[1, 2, 3, 6, 6, 6]\n",
      "change direction\n",
      "[1, 2, 3, 6, 6, 6, 9]\n",
      "[1, 2, 3, 6, 6, 6, 9, 8]\n",
      "change direction\n",
      "[1, 2, 3, 6, 6, 6, 9, 8, 7]\n",
      "[1, 2, 3, 6, 6, 6, 9, 8, 7, 4]\n",
      "[1, 2, 3, 6, 6, 6, 9, 8, 7, 4, 4]\n",
      "change direction\n",
      "[1, 2, 3, 6, 6, 6, 9, 8, 7, 4, 4, 4]\n",
      "change direction\n",
      "[1, 2, 3, 6, 6, 6, 9, 8, 7, 4, 4, 4, 5]\n",
      "[1, 2, 3, 6, 6, 6, 9, 8, 7, 4, 4, 4, 5, 5]\n",
      "change direction\n",
      "[1, 2, 3, 6, 6, 6, 9, 8, 7, 4, 4, 4, 5, 5, 5]\n",
      "[1, 2, 3, 6, 6, 6, 9, 8, 7, 4, 4, 4, 5, 5, 5]\n"
     ]
    }
   ],
   "source": [
    "def snail(snail_map):\n",
    "    matrix_len = 0\n",
    "    for row in snail_map:\n",
    "        matrix_len += len(row)\n",
    "    x = 0\n",
    "    y = 0\n",
    "    x_max = len(snail_map) - 1          # 2\n",
    "    y_max = len(snail_map[0]) - 1   # 2\n",
    "    directions = ([0, 1], [1, 0], [0, -1], [-1, 0]) #behavior of moving: 0right, 1down, 2left, 3up and again\n",
    "    dir_len = len(directions)\n",
    "    history=[]\n",
    "    result=[]\n",
    "    direction = 0\n",
    "\n",
    "    for step in range(matrix_len):\n",
    "        x_next = x + directions[direction][0]\n",
    "        y_next = y + directions[direction][1]\n",
    "        \n",
    "        if x_next < 0 or x_next > x_max or y_next < 0  or y_next > y_max or ([x_next, y_next] in history):\n",
    "            direction = (direction + 1) % dir_len\n",
    "            print('change direction')\n",
    "                \n",
    "        val = snail_map[x][y]\n",
    "        result.append(val)\n",
    "        print(result)\n",
    "        history.append([x, y]) #write to history\n",
    "        x += directions[direction][0]\n",
    "        y += directions[direction][1]\n",
    "    return result\n",
    "\n",
    "\n",
    "array = [[1,2,3],   # 0 [0,1,2]\n",
    "         [4,5,6],   # 1 [0,1,2]\n",
    "         [4,5,6],   # 1 [0,1,2]\n",
    "         [4,5,6],   # 1 [0,1,2]\n",
    "         [7,8,9]]   # 2 [0,1,2]\n",
    "\n",
    "\n",
    "print(snail(array))"
   ]
  },
  {
   "cell_type": "code",
   "execution_count": 159,
   "metadata": {},
   "outputs": [
    {
     "data": {
      "text/plain": [
       "False"
      ]
     },
     "execution_count": 159,
     "metadata": {},
     "output_type": "execute_result"
    }
   ],
   "source": []
  }
 ],
 "metadata": {
  "interpreter": {
   "hash": "ef7a7ce4232e40e41236ab4fdad813d23c3776a58cb32a481095b13ce743b57c"
  },
  "kernelspec": {
   "display_name": "Python 3.9.1 ('venv': venv)",
   "language": "python",
   "name": "python3"
  },
  "language_info": {
   "codemirror_mode": {
    "name": "ipython",
    "version": 3
   },
   "file_extension": ".py",
   "mimetype": "text/x-python",
   "name": "python",
   "nbconvert_exporter": "python",
   "pygments_lexer": "ipython3",
   "version": "3.9.1"
  },
  "orig_nbformat": 4
 },
 "nbformat": 4,
 "nbformat_minor": 2
}
