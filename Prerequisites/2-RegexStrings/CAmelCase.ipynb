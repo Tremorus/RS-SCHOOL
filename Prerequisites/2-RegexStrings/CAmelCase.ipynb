{
 "cells": [
  {
   "cell_type": "code",
   "execution_count": 20,
   "metadata": {},
   "outputs": [
    {
     "name": "stdout",
     "output_type": "stream",
     "text": [
      "['The', 'Stealth', 'Warrior']\n",
      "TheStealthWarrior\n",
      "['the', 'stealth', 'warrior']\n",
      "theStealthWarrior\n"
     ]
    }
   ],
   "source": [
    "import re\n",
    "\n",
    "def to_camel_case(text=\"The_Stealth_Warrior\"):\n",
    "    if len(text) == 0: return ''\n",
    "\n",
    "    res_list = re.split('-|_', text)\n",
    "    res = res_list[0]\n",
    "    camels = \"\"\n",
    "    for r in res_list[1:]:\n",
    "        camels += r.capitalize() \n",
    "    return(res + camels)\n",
    "\n",
    "\"asd\".capitalize()\n",
    "to_camel_case(\"The_Stealth_Warrior\")\n",
    "to_camel_case(\"the-stealth-warrior\")"
   ]
  },
  {
   "cell_type": "markdown",
   "metadata": {},
   "source": [
    "\"the-stealth-warrior\" gets converted to \"theStealthWarrior\"\n",
    "\"The_Stealth_Warrior\" gets converted to \"TheStealthWarrior\""
   ]
  }
 ],
 "metadata": {
  "interpreter": {
   "hash": "ef7a7ce4232e40e41236ab4fdad813d23c3776a58cb32a481095b13ce743b57c"
  },
  "kernelspec": {
   "display_name": "Python 3.9.1 ('venv': venv)",
   "language": "python",
   "name": "python3"
  },
  "language_info": {
   "codemirror_mode": {
    "name": "ipython",
    "version": 3
   },
   "file_extension": ".py",
   "mimetype": "text/x-python",
   "name": "python",
   "nbconvert_exporter": "python",
   "pygments_lexer": "ipython3",
   "version": "3.9.1"
  },
  "orig_nbformat": 4
 },
 "nbformat": 4,
 "nbformat_minor": 2
}
