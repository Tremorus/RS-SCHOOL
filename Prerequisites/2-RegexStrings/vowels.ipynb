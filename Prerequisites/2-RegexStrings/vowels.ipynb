{
 "cells": [
  {
   "cell_type": "code",
   "execution_count": 13,
   "id": "bce54bc7",
   "metadata": {},
   "outputs": [
    {
     "name": "stdout",
     "output_type": "stream",
     "text": [
      "This website is for losers LOL!\n",
      "Ths wbst s fr lsrs LL!\n"
     ]
    }
   ],
   "source": [
    "def disemvowel(string_):\n",
    "    vowels = 'euioa'\n",
    "    vowels_list = vowels + vowels.upper()\n",
    "    for vow in vowels_list:\n",
    "        # print(vow)\n",
    "        string_ = string_.replace(vow, \"\")\n",
    "        # print(string_)\n",
    "    return string_\n",
    "\n",
    "text = \"This website is for losers LOL!\"\n",
    "print(text)\n",
    "print(disemvowel(text))"
   ]
  }
 ],
 "metadata": {
  "kernelspec": {
   "display_name": "Python 3 (ipykernel)",
   "language": "python",
   "name": "python3"
  },
  "language_info": {
   "codemirror_mode": {
    "name": "ipython",
    "version": 3
   },
   "file_extension": ".py",
   "mimetype": "text/x-python",
   "name": "python",
   "nbconvert_exporter": "python",
   "pygments_lexer": "ipython3",
   "version": "3.9.1"
  }
 },
 "nbformat": 4,
 "nbformat_minor": 5
}
