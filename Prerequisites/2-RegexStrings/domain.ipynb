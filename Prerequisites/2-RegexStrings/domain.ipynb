{
 "cells": [
  {
   "cell_type": "code",
   "execution_count": 7,
   "metadata": {},
   "outputs": [
    {
     "data": {
      "text/plain": [
       "'cnet'"
      ]
     },
     "execution_count": 7,
     "metadata": {},
     "output_type": "execute_result"
    }
   ],
   "source": [
    "import re\n",
    "\n",
    "def domain_name(url):\n",
    "    regex = r\"(http(s)?://)?(w{3}.)?(?P<site>.+?)(\\.).*\"\n",
    "    matches = re.search(regex, url)\n",
    "    \n",
    "    if matches:\n",
    "        return(matches.group('site'))\n",
    "    \n",
    "    \n",
    "domain_name(\"http://github.com/carbonfive/raygun\") #== \"github\" \n",
    "domain_name(\"http://www.zombie-bites.com\")# == \"zombie-bites\"\n",
    "domain_name(\"https://www.cnet.com\")# == \"cnet\""
   ]
  }
 ],
 "metadata": {
  "interpreter": {
   "hash": "ef7a7ce4232e40e41236ab4fdad813d23c3776a58cb32a481095b13ce743b57c"
  },
  "kernelspec": {
   "display_name": "Python 3.9.1 ('venv': venv)",
   "language": "python",
   "name": "python3"
  },
  "language_info": {
   "codemirror_mode": {
    "name": "ipython",
    "version": 3
   },
   "file_extension": ".py",
   "mimetype": "text/x-python",
   "name": "python",
   "nbconvert_exporter": "python",
   "pygments_lexer": "ipython3",
   "version": "3.9.1"
  },
  "orig_nbformat": 4
 },
 "nbformat": 4,
 "nbformat_minor": 2
}
