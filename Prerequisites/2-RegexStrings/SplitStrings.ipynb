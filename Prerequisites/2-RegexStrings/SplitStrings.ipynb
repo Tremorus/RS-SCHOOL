{
 "cells": [
  {
   "cell_type": "code",
   "execution_count": 9,
   "metadata": {},
   "outputs": [
    {
     "data": {
      "text/plain": [
       "['ab', 'cd', 'ef']"
      ]
     },
     "execution_count": 9,
     "metadata": {},
     "output_type": "execute_result"
    }
   ],
   "source": [
    "import re\n",
    "\n",
    "def solution(s):\n",
    "    if len(s) == 0: return []\n",
    "    res = re.findall('\\w{1,2}', s)\n",
    "    if len(res[-1]) == 1: res[-1] += \"_\"\n",
    "    return res\n",
    "\n",
    "\n",
    "solution('abc')\n",
    "solution('abcdef')"
   ]
  },
  {
   "cell_type": "markdown",
   "metadata": {},
   "source": [
    "Complete the solution so that it splits the string into pairs of two characters. If the string contains an odd number of characters then it should replace the missing second character of the final pair with an underscore ('_').\n",
    "\n",
    "Examples:\n",
    "\n",
    "solution('abc') # should return ['ab', 'c_']\n",
    "solution('abcdef') # should return ['ab', 'cd', 'ef']\n"
   ]
  }
 ],
 "metadata": {
  "interpreter": {
   "hash": "ef7a7ce4232e40e41236ab4fdad813d23c3776a58cb32a481095b13ce743b57c"
  },
  "kernelspec": {
   "display_name": "Python 3.9.1 ('venv': venv)",
   "language": "python",
   "name": "python3"
  },
  "language_info": {
   "codemirror_mode": {
    "name": "ipython",
    "version": 3
   },
   "file_extension": ".py",
   "mimetype": "text/x-python",
   "name": "python",
   "nbconvert_exporter": "python",
   "pygments_lexer": "ipython3",
   "version": "3.9.1"
  },
  "orig_nbformat": 4
 },
 "nbformat": 4,
 "nbformat_minor": 2
}
