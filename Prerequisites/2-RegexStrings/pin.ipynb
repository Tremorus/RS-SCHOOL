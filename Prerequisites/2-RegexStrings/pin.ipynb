{
 "cells": [
  {
   "cell_type": "code",
   "execution_count": 15,
   "metadata": {},
   "outputs": [
    {
     "name": "stdout",
     "output_type": "stream",
     "text": [
      "7\n"
     ]
    },
    {
     "data": {
      "text/plain": [
       "False"
      ]
     },
     "execution_count": 15,
     "metadata": {},
     "output_type": "execute_result"
    }
   ],
   "source": [
    "import re\n",
    "def validate_pin(pin):\n",
    "    #return true or false\n",
    "    print(len(pin))\n",
    "    if len(pin) not in [4,6]: return False\n",
    "    regex = r\"^(\\d{4}|\\d{6})$\"\n",
    "    matches = re.search(regex, str(pin))\n",
    "    # print(matches.group(0))\n",
    "    if matches: return True \n",
    "    else: return False\n",
    "    #     print (\"Match was found at {start}-{end}: {match}\".format(start = matches.start(), end = matches.end(), match = matches.group()))\n",
    "        \n",
    "    #     for groupNum in range(0, len(matches.groups())):\n",
    "    #         groupNum = groupNum + 1\n",
    "            \n",
    "    #         print (\"Group {groupNum} found at {start}-{end}: {group}\".format(groupNum = groupNum, start = matches.start(groupNum), end = matches.end(groupNum), group = matches.group(groupNum)))\n",
    "\n",
    "    # # print(list(matches)[0]['match'])\n",
    "\n",
    "    \n",
    "pin =\"\"\"182134\n",
    "\"\"\"\n",
    "validate_pin(pin)"
   ]
  }
 ],
 "metadata": {
  "kernelspec": {
   "display_name": "Python 3 (ipykernel)",
   "language": "python",
   "name": "python3"
  },
  "language_info": {
   "codemirror_mode": {
    "name": "ipython",
    "version": 3
   },
   "file_extension": ".py",
   "mimetype": "text/x-python",
   "name": "python",
   "nbconvert_exporter": "python",
   "pygments_lexer": "ipython3",
   "version": "3.9.7"
  }
 },
 "nbformat": 4,
 "nbformat_minor": 2
}
