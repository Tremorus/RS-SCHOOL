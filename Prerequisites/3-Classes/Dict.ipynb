{
 "cells": [
  {
   "cell_type": "code",
   "execution_count": 15,
   "metadata": {},
   "outputs": [
    {
     "data": {
      "text/plain": [
       "\"Can't find entry for Appse\""
      ]
     },
     "execution_count": 15,
     "metadata": {},
     "output_type": "execute_result"
    }
   ],
   "source": [
    "class Dictionary():\n",
    "    def __init__(self):\n",
    "        self.dictionary={}\n",
    "        \n",
    "    def newentry(self, word, definition):\n",
    "        self.dictionary.update({word: definition})\n",
    "        \n",
    "    def look(self, key):\n",
    "        return self.dictionary.get(key, \"Can't find entry for {}\".format(key))\n",
    "        \n",
    "\n",
    "d = Dictionary()\n",
    "d.newentry(\"Apple\", \"A fruit\")\n",
    "d.look(\"Appse\")\n",
    "# test.assert_equals(d.look(\"Apple\"), \"A fruit\")"
   ]
  }
 ],
 "metadata": {
  "interpreter": {
   "hash": "ef7a7ce4232e40e41236ab4fdad813d23c3776a58cb32a481095b13ce743b57c"
  },
  "kernelspec": {
   "display_name": "Python 3.9.1 ('venv': venv)",
   "language": "python",
   "name": "python3"
  },
  "language_info": {
   "codemirror_mode": {
    "name": "ipython",
    "version": 3
   },
   "file_extension": ".py",
   "mimetype": "text/x-python",
   "name": "python",
   "nbconvert_exporter": "python",
   "pygments_lexer": "ipython3",
   "version": "3.9.1"
  },
  "orig_nbformat": 4
 },
 "nbformat": 4,
 "nbformat_minor": 2
}
