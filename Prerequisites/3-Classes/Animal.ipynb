{
 "cells": [
  {
   "cell_type": "code",
   "execution_count": 10,
   "metadata": {},
   "outputs": [
    {
     "name": "stdout",
     "output_type": "stream",
     "text": [
      "Mr. Whiskers meows\n"
     ]
    }
   ],
   "source": [
    "# import Animal\n",
    "class Cat:\n",
    "    def __init__(self, name):\n",
    "        self.name=name\n",
    "        self.speak()\n",
    "        \n",
    "    #your code here\n",
    "    def speak(self):\n",
    "        print(\"{} meows\".format(self.name))\n",
    "    \n",
    "    # def __(self):\n",
    "    #     self.speak()\n",
    "        \n",
    "    \n",
    "\n",
    "\n",
    "cat = Cat('Mr. Whiskers')\n",
    "# cat.speak()\n",
    "# cat.name = 'Mr. Whiskers'\n",
    "# cat.meow()"
   ]
  },
  {
   "cell_type": "markdown",
   "metadata": {},
   "source": [
    "Classy Extensions\n",
    "Classy Extensions, this kata is mainly aimed at the new JS ES6 Update introducing extends keyword. You will be preloaded with the Animal class, so you should only edit the Cat class.\n",
    "Task\n",
    "Your task is to complete the Cat class which Extends Animal and replace the speak method to return the cats name + meows. e.g. 'Mr Whiskers meows.'"
   ]
  }
 ],
 "metadata": {
  "interpreter": {
   "hash": "ef7a7ce4232e40e41236ab4fdad813d23c3776a58cb32a481095b13ce743b57c"
  },
  "kernelspec": {
   "display_name": "Python 3.9.1 ('venv': venv)",
   "language": "python",
   "name": "python3"
  },
  "language_info": {
   "codemirror_mode": {
    "name": "ipython",
    "version": 3
   },
   "file_extension": ".py",
   "mimetype": "text/x-python",
   "name": "python",
   "nbconvert_exporter": "python",
   "pygments_lexer": "ipython3",
   "version": "3.9.1"
  },
  "orig_nbformat": 4
 },
 "nbformat": 4,
 "nbformat_minor": 2
}
