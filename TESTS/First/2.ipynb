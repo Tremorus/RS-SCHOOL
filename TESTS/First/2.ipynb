{
 "cells": [
  {
   "cell_type": "code",
   "execution_count": 29,
   "metadata": {},
   "outputs": [
    {
     "name": "stdout",
     "output_type": "stream",
     "text": [
      "aaaa 3 -1\n",
      "True\n",
      "bbbb -1 3\n",
      "True\n",
      "bbabb 2 4\n",
      "True\n",
      "aabbb 1 4\n",
      "True\n",
      "ba 1 0\n",
      "False\n",
      "abba 3 2\n",
      "False\n"
     ]
    },
    {
     "data": {
      "text/plain": [
       "False"
      ]
     },
     "execution_count": 29,
     "metadata": {},
     "output_type": "execute_result"
    }
   ],
   "source": [
    "# you can write to stdout for debugging purposes, e.g.\n",
    "# print(\"this is a debug message\")\n",
    "\n",
    "def solution(S):\n",
    "    max_a, max_b = -1, -1\n",
    "    for i in range(len(S)):\n",
    "        if S[i] == 'a': max_a = i\n",
    "        if S[i] == 'b': max_b = i\n",
    "    # print(S, max_a, max_b)\n",
    "    res = -1 in [max_a, max_b] or max_a < max_b\n",
    "    # print(res)\n",
    "    return res\n",
    "    # print(S)\n",
    "    # index_a = (S.find('a'))\n",
    "    # index_b = (S.find('b'))\n",
    "    # print(\"index a: \", index_a, \"\\nindex b: \",index_b)\n",
    "    # if index_a == -1:\n",
    "    #     print(True)\n",
    "    #     return True\n",
    "    # if index_b == 0:\n",
    "    #     print(False)\n",
    "    #     return False\n",
    "    # return True\n",
    "\n",
    "\n",
    "solution('aaaa')\n",
    "solution('bbbb')\n",
    "solution('bbabb')\n",
    "solution('aabbb')\n",
    "solution('ba')\n",
    "solution('abba')"
   ]
  }
 ],
 "metadata": {
  "interpreter": {
   "hash": "ef7a7ce4232e40e41236ab4fdad813d23c3776a58cb32a481095b13ce743b57c"
  },
  "kernelspec": {
   "display_name": "Python 3.9.1 ('venv': venv)",
   "language": "python",
   "name": "python3"
  },
  "language_info": {
   "codemirror_mode": {
    "name": "ipython",
    "version": 3
   },
   "file_extension": ".py",
   "mimetype": "text/x-python",
   "name": "python",
   "nbconvert_exporter": "python",
   "pygments_lexer": "ipython3",
   "version": "3.9.1"
  },
  "orig_nbformat": 4
 },
 "nbformat": 4,
 "nbformat_minor": 2
}
