{
 "cells": [
  {
   "cell_type": "code",
   "execution_count": 37,
   "metadata": {},
   "outputs": [
    {
     "name": "stdout",
     "output_type": "stream",
     "text": [
      "babaa\n",
      "bbaa\n"
     ]
    },
    {
     "data": {
      "text/plain": [
       "0"
      ]
     },
     "execution_count": 37,
     "metadata": {},
     "output_type": "execute_result"
    }
   ],
   "source": [
    "def solution(S):\n",
    "    print(S)\n",
    "    aa = S.split('a')\n",
    "    bb = S.split('b')\n",
    "    aaa = [x for x in  [len(a) for a in aa] if x> 0]\n",
    "    bbb = [x for x in  [len(b) for b in bb] if x> 0]\n",
    "\n",
    "    ab = aaa + bbb\n",
    "\n",
    "    max_len = max(ab)\n",
    "\n",
    "    res = 0\n",
    "    for x in ab:\n",
    "        res += max_len - x\n",
    "\n",
    "    return(res)\n",
    "\n",
    "\n",
    "solution('babaa')\n",
    "solution('bbaa')\n"
   ]
  }
 ],
 "metadata": {
  "interpreter": {
   "hash": "ef7a7ce4232e40e41236ab4fdad813d23c3776a58cb32a481095b13ce743b57c"
  },
  "kernelspec": {
   "display_name": "Python 3.9.1 ('venv': venv)",
   "language": "python",
   "name": "python3"
  },
  "language_info": {
   "codemirror_mode": {
    "name": "ipython",
    "version": 3
   },
   "file_extension": ".py",
   "mimetype": "text/x-python",
   "name": "python",
   "nbconvert_exporter": "python",
   "pygments_lexer": "ipython3",
   "version": "3.9.1"
  },
  "orig_nbformat": 4
 },
 "nbformat": 4,
 "nbformat_minor": 2
}
