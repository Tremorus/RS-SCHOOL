{
 "cells": [
  {
   "cell_type": "code",
   "execution_count": 26,
   "metadata": {},
   "outputs": [
    {
     "name": "stdout",
     "output_type": "stream",
     "text": [
      "3\n",
      "[6, 7, 8, 9, 10, 11, 12, 13, 14, 15, 16, 17, 18, 19, 20]\n"
     ]
    },
    {
     "data": {
      "text/plain": [
       "3"
      ]
     },
     "execution_count": 26,
     "metadata": {},
     "output_type": "execute_result"
    }
   ],
   "source": [
    "# you can write to stdout for debugging purposes, e.g.\n",
    "# print(\"this is a debug message\")\n",
    "\n",
    "def solution(A, B):\n",
    "    # write your code in Python 3.6\n",
    "    ab_range = [*range(A, B + 1)]\n",
    "    res = 0\n",
    "    for i in ab_range:\n",
    "        for x in range(i):\n",
    "            if x * (x + 1) == i:\n",
    "                res += 1\n",
    "                break\n",
    "\n",
    "    print(res)\n",
    "    print(ab_range)\n",
    "    return res\n",
    "\n",
    "\n",
    "solution(6, 20)\n",
    "# solution(21, 27)"
   ]
  }
 ],
 "metadata": {
  "interpreter": {
   "hash": "ef7a7ce4232e40e41236ab4fdad813d23c3776a58cb32a481095b13ce743b57c"
  },
  "kernelspec": {
   "display_name": "Python 3.9.1 ('venv': venv)",
   "language": "python",
   "name": "python3"
  },
  "language_info": {
   "codemirror_mode": {
    "name": "ipython",
    "version": 3
   },
   "file_extension": ".py",
   "mimetype": "text/x-python",
   "name": "python",
   "nbconvert_exporter": "python",
   "pygments_lexer": "ipython3",
   "version": "3.9.1"
  },
  "orig_nbformat": 4
 },
 "nbformat": 4,
 "nbformat_minor": 2
}
