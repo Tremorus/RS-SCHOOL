{
 "cells": [
  {
   "cell_type": "code",
   "execution_count": 33,
   "metadata": {},
   "outputs": [
    {
     "data": {
      "text/plain": [
       "0"
      ]
     },
     "execution_count": 33,
     "metadata": {},
     "output_type": "execute_result"
    }
   ],
   "source": [
    "def solution(A):\n",
    "    res = 0\n",
    "    sum_a = 0\n",
    "    \n",
    "    for i in range(len(A)):\n",
    "        sum_a += A[i]\n",
    "\n",
    "        if(sum_a < 0 and A[i] < 0):\n",
    "            res += 1\n",
    "            A.append(A.pop(i))\n",
    "\n",
    "    return res\n",
    "\n",
    "solution([10, -10, -1, -1, 10])\n",
    "solution([-1, -1, -1, 1,1,1,1])\n",
    "solution([5,-2,-3,1])\n",
    "\n"
   ]
  }
 ],
 "metadata": {
  "interpreter": {
   "hash": "ef7a7ce4232e40e41236ab4fdad813d23c3776a58cb32a481095b13ce743b57c"
  },
  "kernelspec": {
   "display_name": "Python 3.9.1 ('venv': venv)",
   "language": "python",
   "name": "python3"
  },
  "language_info": {
   "codemirror_mode": {
    "name": "ipython",
    "version": 3
   },
   "file_extension": ".py",
   "mimetype": "text/x-python",
   "name": "python",
   "nbconvert_exporter": "python",
   "pygments_lexer": "ipython3",
   "version": "3.9.1"
  },
  "orig_nbformat": 4
 },
 "nbformat": 4,
 "nbformat_minor": 2
}
